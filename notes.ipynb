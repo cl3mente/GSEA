{
 "cells": [
  {
   "cell_type": "code",
   "execution_count": 3,
   "metadata": {},
   "outputs": [
    {
     "name": "stdout",
     "output_type": "stream",
     "text": [
      "    test_id   gene_id      gene                    locus sample_1 sample_2  \\\n",
      "0      A1BG      A1BG      A1BG  chr19:58858171-58874214    1,2,3    4,5,6   \n",
      "1  A1BG-AS1  A1BG-AS1  A1BG-AS1  chr19:58858171-58874214    1,2,3    4,5,6   \n",
      "2      A1CF      A1CF      A1CF  chr10:52559168-52645435    1,2,3    4,5,6   \n",
      "3       A2M       A2M       A2M    chr12:9217772-9268558    1,2,3    4,5,6   \n",
      "4   A2M-AS1   A2M-AS1   A2M-AS1    chr12:9217772-9268558    1,2,3    4,5,6   \n",
      "\n",
      "   status   value_1   value_2  log2(fold_change)  ...  q_value(FDR)  \\\n",
      "0      OK  1.919280  1.406800          -0.448148  ...      0.068598   \n",
      "1      OK  0.404973  0.546247           0.431728  ...      0.415930   \n",
      "2  NOTEST  0.006257  0.010986           0.812096  ...      1.000000   \n",
      "3  NOTEST  0.000000  0.018997                inf  ...      1.000000   \n",
      "4  NOTEST  0.000000  0.000000                NaN  ...      1.000000   \n",
      "\n",
      "  significant  chrom   txStart     txEnd  \\\n",
      "0          no  chr19  58858171  58864865   \n",
      "1          no  chr19  58863335  58866549   \n",
      "2          no  chr10  52559168  52645435   \n",
      "3          no  chr12   9220303   9268558   \n",
      "4          no  chr12   9217772   9220651   \n",
      "\n",
      "                                             mrnaAcc  \\\n",
      "0                            NM_001046243//NM_130786   \n",
      "1                                          NR_015380   \n",
      "2  NM_001133965//NM_001198818//NM_001198819//NM_0...   \n",
      "3              NM_000014//NM_001109795//NM_001133457   \n",
      "4                    NR_026971//NR_137424//NR_137425   \n",
      "\n",
      "                                        refFlat.name   mol  \\\n",
      "0                                          NM_130786  mRNA   \n",
      "1                                          NR_015380   RNA   \n",
      "2  NM_001198818//NM_001198819//NM_001198820//NM_0...  mRNA   \n",
      "3                                          NM_000014  mRNA   \n",
      "4                    NR_026971//NR_137424//NR_137425   RNA   \n",
      "\n",
      "                                     refLink.product  \\\n",
      "0                    alpha-1B-glycoprotein precursor   \n",
      "1                                                  -   \n",
      "2  APOBEC1 complementation factor//APOBEC1 comple...   \n",
      "3                    alpha-2-macroglobulin precursor   \n",
      "4                                                  -   \n",
      "\n",
      "                                             summary  \n",
      "0  -//The protein encoded by this gene is a plasm...  \n",
      "1                                                  -  \n",
      "2  -//Mammalian apolipoprotein B mRNA undergoes s...  \n",
      "3  -//Alpha-2-macroglobulin is a protease inhibit...  \n",
      "4                                                  -  \n",
      "\n",
      "[5 rows x 23 columns]\n"
     ]
    }
   ],
   "source": [
    "import pandas as pd\n",
    "\n",
    "with pd.ExcelFile(\"1.1,2,3.vs.4,5,6.xlsx\") as xls:\n",
    "    df = pd.read_excel(xls)\n",
    "\n",
    "print(df.head())"
   ]
  }
 ],
 "metadata": {
  "kernelspec": {
   "display_name": "Python 3.10.2 64-bit",
   "language": "python",
   "name": "python3"
  },
  "language_info": {
   "codemirror_mode": {
    "name": "ipython",
    "version": 3
   },
   "file_extension": ".py",
   "mimetype": "text/x-python",
   "name": "python",
   "nbconvert_exporter": "python",
   "pygments_lexer": "ipython3",
   "version": "3.10.2"
  },
  "orig_nbformat": 4,
  "vscode": {
   "interpreter": {
    "hash": "adda2800185721ec47e9eff172a36b2c7e7a54ac4dc40284f6d98bb37488e742"
   }
  }
 },
 "nbformat": 4,
 "nbformat_minor": 2
}
